{
 "cells": [
  {
   "cell_type": "markdown",
   "metadata": {},
   "source": [
    "# WQD 7006 Assignment (NURZUHRAH-17218257)\n",
    "\n",
    "\n",
    "\n",
    "\n",
    "## 1.0 Get data from [Worldometer](https://www.worldometers.info/coronavirus/)\n",
    "\n",
    "### 1.1 Installation\n",
    "\n",
    "Install ***covid_daily/*** Python Package directory via pip on the terminal. "
   ]
  },
  {
   "cell_type": "code",
   "execution_count": 1,
   "metadata": {
    "scrolled": true
   },
   "outputs": [],
   "source": [
    "pip install covid_daily"
   ]
  },
  {
   "cell_type": "markdown",
   "metadata": {},
   "source": [
    "### 1.2 Data Collection"
   ]
  },
  {
   "cell_type": "code",
   "execution_count": 2,
   "metadata": {},
   "outputs": [
    {
     "data": {
      "text/html": [
       "<div>\n",
       "<style scoped>\n",
       "    .dataframe tbody tr th:only-of-type {\n",
       "        vertical-align: middle;\n",
       "    }\n",
       "\n",
       "    .dataframe tbody tr th {\n",
       "        vertical-align: top;\n",
       "    }\n",
       "\n",
       "    .dataframe thead th {\n",
       "        text-align: right;\n",
       "    }\n",
       "</style>\n",
       "<table border=\"1\" class=\"dataframe\">\n",
       "  <thead>\n",
       "    <tr style=\"text-align: right;\">\n",
       "      <th></th>\n",
       "      <th>Novel Coronavirus Daily Cases</th>\n",
       "    </tr>\n",
       "    <tr>\n",
       "      <th>Date</th>\n",
       "      <th></th>\n",
       "    </tr>\n",
       "  </thead>\n",
       "  <tbody>\n",
       "    <tr>\n",
       "      <th>2020-02-15</th>\n",
       "      <td>NaN</td>\n",
       "    </tr>\n",
       "    <tr>\n",
       "      <th>2020-02-16</th>\n",
       "      <td>0.0</td>\n",
       "    </tr>\n",
       "    <tr>\n",
       "      <th>2020-02-17</th>\n",
       "      <td>0.0</td>\n",
       "    </tr>\n",
       "    <tr>\n",
       "      <th>2020-02-18</th>\n",
       "      <td>0.0</td>\n",
       "    </tr>\n",
       "    <tr>\n",
       "      <th>2020-02-19</th>\n",
       "      <td>0.0</td>\n",
       "    </tr>\n",
       "  </tbody>\n",
       "</table>\n",
       "</div>"
      ],
      "text/plain": [
       "            Novel Coronavirus Daily Cases\n",
       "Date                                     \n",
       "2020-02-15                            NaN\n",
       "2020-02-16                            0.0\n",
       "2020-02-17                            0.0\n",
       "2020-02-18                            0.0\n",
       "2020-02-19                            0.0"
      ]
     },
     "execution_count": 2,
     "metadata": {},
     "output_type": "execute_result"
    }
   ],
   "source": [
    "import covid_daily\n",
    "\n",
    "new_cases = covid_daily.data(country='malaysia', chart='graph-cases-daily', as_json=False)\n",
    "new_cases.head()"
   ]
  },
  {
   "cell_type": "markdown",
   "metadata": {},
   "source": [
    "## 2.0 Data Preparation"
   ]
  },
  {
   "cell_type": "code",
   "execution_count": 3,
   "metadata": {},
   "outputs": [
    {
     "data": {
      "text/html": [
       "<div>\n",
       "<style scoped>\n",
       "    .dataframe tbody tr th:only-of-type {\n",
       "        vertical-align: middle;\n",
       "    }\n",
       "\n",
       "    .dataframe tbody tr th {\n",
       "        vertical-align: top;\n",
       "    }\n",
       "\n",
       "    .dataframe thead th {\n",
       "        text-align: right;\n",
       "    }\n",
       "</style>\n",
       "<table border=\"1\" class=\"dataframe\">\n",
       "  <thead>\n",
       "    <tr style=\"text-align: right;\">\n",
       "      <th></th>\n",
       "      <th>Date</th>\n",
       "      <th>Novel Coronavirus Daily Cases</th>\n",
       "    </tr>\n",
       "  </thead>\n",
       "  <tbody>\n",
       "    <tr>\n",
       "      <th>0</th>\n",
       "      <td>2020-02-15</td>\n",
       "      <td>NaN</td>\n",
       "    </tr>\n",
       "    <tr>\n",
       "      <th>1</th>\n",
       "      <td>2020-02-16</td>\n",
       "      <td>0.0</td>\n",
       "    </tr>\n",
       "    <tr>\n",
       "      <th>2</th>\n",
       "      <td>2020-02-17</td>\n",
       "      <td>0.0</td>\n",
       "    </tr>\n",
       "    <tr>\n",
       "      <th>3</th>\n",
       "      <td>2020-02-18</td>\n",
       "      <td>0.0</td>\n",
       "    </tr>\n",
       "    <tr>\n",
       "      <th>4</th>\n",
       "      <td>2020-02-19</td>\n",
       "      <td>0.0</td>\n",
       "    </tr>\n",
       "  </tbody>\n",
       "</table>\n",
       "</div>"
      ],
      "text/plain": [
       "        Date  Novel Coronavirus Daily Cases\n",
       "0 2020-02-15                            NaN\n",
       "1 2020-02-16                            0.0\n",
       "2 2020-02-17                            0.0\n",
       "3 2020-02-18                            0.0\n",
       "4 2020-02-19                            0.0"
      ]
     },
     "execution_count": 3,
     "metadata": {},
     "output_type": "execute_result"
    }
   ],
   "source": [
    "import numpy as np\n",
    "import pandas as pd\n",
    "\n",
    "#Set the index to become the ‘Date’ column\n",
    "new_cases=new_cases.reset_index()\n",
    "new_cases.head()"
   ]
  },
  {
   "cell_type": "code",
   "execution_count": 4,
   "metadata": {
    "scrolled": true
   },
   "outputs": [
    {
     "data": {
      "text/plain": [
       "Date                             datetime64[ns]\n",
       "Novel Coronavirus Daily Cases           float64\n",
       "dtype: object"
      ]
     },
     "execution_count": 4,
     "metadata": {},
     "output_type": "execute_result"
    }
   ],
   "source": [
    "#check data object type\n",
    "new_cases.dtypes"
   ]
  },
  {
   "cell_type": "code",
   "execution_count": 5,
   "metadata": {
    "scrolled": false
   },
   "outputs": [
    {
     "data": {
      "text/html": [
       "<div>\n",
       "<style scoped>\n",
       "    .dataframe tbody tr th:only-of-type {\n",
       "        vertical-align: middle;\n",
       "    }\n",
       "\n",
       "    .dataframe tbody tr th {\n",
       "        vertical-align: top;\n",
       "    }\n",
       "\n",
       "    .dataframe thead th {\n",
       "        text-align: right;\n",
       "    }\n",
       "</style>\n",
       "<table border=\"1\" class=\"dataframe\">\n",
       "  <thead>\n",
       "    <tr style=\"text-align: right;\">\n",
       "      <th></th>\n",
       "      <th>Date</th>\n",
       "      <th>Daily New Cases</th>\n",
       "    </tr>\n",
       "  </thead>\n",
       "  <tbody>\n",
       "    <tr>\n",
       "      <th>0</th>\n",
       "      <td>2020-02-15</td>\n",
       "      <td>NaN</td>\n",
       "    </tr>\n",
       "    <tr>\n",
       "      <th>1</th>\n",
       "      <td>2020-02-16</td>\n",
       "      <td>0.0</td>\n",
       "    </tr>\n",
       "    <tr>\n",
       "      <th>2</th>\n",
       "      <td>2020-02-17</td>\n",
       "      <td>0.0</td>\n",
       "    </tr>\n",
       "    <tr>\n",
       "      <th>3</th>\n",
       "      <td>2020-02-18</td>\n",
       "      <td>0.0</td>\n",
       "    </tr>\n",
       "    <tr>\n",
       "      <th>4</th>\n",
       "      <td>2020-02-19</td>\n",
       "      <td>0.0</td>\n",
       "    </tr>\n",
       "  </tbody>\n",
       "</table>\n",
       "</div>"
      ],
      "text/plain": [
       "        Date  Daily New Cases\n",
       "0 2020-02-15              NaN\n",
       "1 2020-02-16              0.0\n",
       "2 2020-02-17              0.0\n",
       "3 2020-02-18              0.0\n",
       "4 2020-02-19              0.0"
      ]
     },
     "execution_count": 5,
     "metadata": {},
     "output_type": "execute_result"
    }
   ],
   "source": [
    "#rename header\n",
    "new_cases = new_cases.rename(columns={'Novel Coronavirus Daily Cases': 'Daily New Cases'})\n",
    "new_cases.head()"
   ]
  },
  {
   "cell_type": "code",
   "execution_count": 6,
   "metadata": {},
   "outputs": [],
   "source": [
    "# Add number of days of new cases\n",
    "new_cases['Day'] = range(1, len(new_cases) + 1)\n",
    "new_cases\n",
    "\n",
    "new_cases=new_cases.iloc[0:333] # until 13th January 2021"
   ]
  },
  {
   "cell_type": "markdown",
   "metadata": {},
   "source": [
    "### 2.1 Data Cleaning "
   ]
  },
  {
   "cell_type": "code",
   "execution_count": 7,
   "metadata": {
    "scrolled": false
   },
   "outputs": [
    {
     "data": {
      "text/plain": [
       "Date               0\n",
       "Daily New Cases    1\n",
       "Day                0\n",
       "dtype: int64"
      ]
     },
     "execution_count": 7,
     "metadata": {},
     "output_type": "execute_result"
    }
   ],
   "source": [
    "# Check missing value\n",
    "\n",
    "new_cases.isnull().sum()"
   ]
  },
  {
   "cell_type": "code",
   "execution_count": 8,
   "metadata": {},
   "outputs": [
    {
     "name": "stdout",
     "output_type": "stream",
     "text": [
      "Date               0\n",
      "Daily New Cases    0\n",
      "Day                0\n",
      "dtype: int64\n"
     ]
    }
   ],
   "source": [
    "# Replace missing value = 0\n",
    "\n",
    "new_cases.replace(np.nan, 0, inplace=True)\n",
    "print (new_cases.isnull().sum())"
   ]
  },
  {
   "cell_type": "markdown",
   "metadata": {},
   "source": [
    "### 2.2 Statistical details of the dataset"
   ]
  },
  {
   "cell_type": "code",
   "execution_count": 9,
   "metadata": {
    "scrolled": false
   },
   "outputs": [
    {
     "data": {
      "text/html": [
       "<div>\n",
       "<style scoped>\n",
       "    .dataframe tbody tr th:only-of-type {\n",
       "        vertical-align: middle;\n",
       "    }\n",
       "\n",
       "    .dataframe tbody tr th {\n",
       "        vertical-align: top;\n",
       "    }\n",
       "\n",
       "    .dataframe thead th {\n",
       "        text-align: right;\n",
       "    }\n",
       "</style>\n",
       "<table border=\"1\" class=\"dataframe\">\n",
       "  <thead>\n",
       "    <tr style=\"text-align: right;\">\n",
       "      <th></th>\n",
       "      <th>Daily New Cases</th>\n",
       "      <th>Day</th>\n",
       "    </tr>\n",
       "  </thead>\n",
       "  <tbody>\n",
       "    <tr>\n",
       "      <th>count</th>\n",
       "      <td>333.000000</td>\n",
       "      <td>333.000000</td>\n",
       "    </tr>\n",
       "    <tr>\n",
       "      <th>mean</th>\n",
       "      <td>424.957958</td>\n",
       "      <td>167.000000</td>\n",
       "    </tr>\n",
       "    <tr>\n",
       "      <th>std</th>\n",
       "      <td>663.866462</td>\n",
       "      <td>96.273049</td>\n",
       "    </tr>\n",
       "    <tr>\n",
       "      <th>min</th>\n",
       "      <td>0.000000</td>\n",
       "      <td>1.000000</td>\n",
       "    </tr>\n",
       "    <tr>\n",
       "      <th>25%</th>\n",
       "      <td>13.000000</td>\n",
       "      <td>84.000000</td>\n",
       "    </tr>\n",
       "    <tr>\n",
       "      <th>50%</th>\n",
       "      <td>62.000000</td>\n",
       "      <td>167.000000</td>\n",
       "    </tr>\n",
       "    <tr>\n",
       "      <th>75%</th>\n",
       "      <td>732.000000</td>\n",
       "      <td>250.000000</td>\n",
       "    </tr>\n",
       "    <tr>\n",
       "      <th>max</th>\n",
       "      <td>3309.000000</td>\n",
       "      <td>333.000000</td>\n",
       "    </tr>\n",
       "  </tbody>\n",
       "</table>\n",
       "</div>"
      ],
      "text/plain": [
       "       Daily New Cases         Day\n",
       "count       333.000000  333.000000\n",
       "mean        424.957958  167.000000\n",
       "std         663.866462   96.273049\n",
       "min           0.000000    1.000000\n",
       "25%          13.000000   84.000000\n",
       "50%          62.000000  167.000000\n",
       "75%         732.000000  250.000000\n",
       "max        3309.000000  333.000000"
      ]
     },
     "execution_count": 9,
     "metadata": {},
     "output_type": "execute_result"
    }
   ],
   "source": [
    "new_cases.describe()"
   ]
  },
  {
   "cell_type": "markdown",
   "metadata": {},
   "source": [
    "### 2.3 Correlation analysis"
   ]
  },
  {
   "cell_type": "code",
   "execution_count": 10,
   "metadata": {
    "scrolled": false
   },
   "outputs": [
    {
     "data": {
      "text/html": [
       "<div>\n",
       "<style scoped>\n",
       "    .dataframe tbody tr th:only-of-type {\n",
       "        vertical-align: middle;\n",
       "    }\n",
       "\n",
       "    .dataframe tbody tr th {\n",
       "        vertical-align: top;\n",
       "    }\n",
       "\n",
       "    .dataframe thead th {\n",
       "        text-align: right;\n",
       "    }\n",
       "</style>\n",
       "<table border=\"1\" class=\"dataframe\">\n",
       "  <thead>\n",
       "    <tr style=\"text-align: right;\">\n",
       "      <th></th>\n",
       "      <th>Daily New Cases</th>\n",
       "      <th>Day</th>\n",
       "    </tr>\n",
       "  </thead>\n",
       "  <tbody>\n",
       "    <tr>\n",
       "      <th>Daily New Cases</th>\n",
       "      <td>1.000000</td>\n",
       "      <td>0.744817</td>\n",
       "    </tr>\n",
       "    <tr>\n",
       "      <th>Day</th>\n",
       "      <td>0.744817</td>\n",
       "      <td>1.000000</td>\n",
       "    </tr>\n",
       "  </tbody>\n",
       "</table>\n",
       "</div>"
      ],
      "text/plain": [
       "                 Daily New Cases       Day\n",
       "Daily New Cases         1.000000  0.744817\n",
       "Day                     0.744817  1.000000"
      ]
     },
     "execution_count": 10,
     "metadata": {},
     "output_type": "execute_result"
    }
   ],
   "source": [
    "new_cases.corr()"
   ]
  },
  {
   "cell_type": "markdown",
   "metadata": {},
   "source": [
    "### 2.4 Understanding the dataset\n",
    "Create the first scatter plot, and display the the number of daily new positive cases variable for estimating the epidemic progression"
   ]
  },
  {
   "cell_type": "code",
   "execution_count": 11,
   "metadata": {},
   "outputs": [
    {
     "data": {
      "text/html": [
       "<div>\n",
       "<style scoped>\n",
       "    .dataframe tbody tr th:only-of-type {\n",
       "        vertical-align: middle;\n",
       "    }\n",
       "\n",
       "    .dataframe tbody tr th {\n",
       "        vertical-align: top;\n",
       "    }\n",
       "\n",
       "    .dataframe thead th {\n",
       "        text-align: right;\n",
       "    }\n",
       "</style>\n",
       "<table border=\"1\" class=\"dataframe\">\n",
       "  <thead>\n",
       "    <tr style=\"text-align: right;\">\n",
       "      <th></th>\n",
       "      <th>Day</th>\n",
       "      <th>Daily New Cases</th>\n",
       "    </tr>\n",
       "  </thead>\n",
       "  <tbody>\n",
       "    <tr>\n",
       "      <th>0</th>\n",
       "      <td>1</td>\n",
       "      <td>0.0</td>\n",
       "    </tr>\n",
       "    <tr>\n",
       "      <th>1</th>\n",
       "      <td>2</td>\n",
       "      <td>0.0</td>\n",
       "    </tr>\n",
       "    <tr>\n",
       "      <th>2</th>\n",
       "      <td>3</td>\n",
       "      <td>0.0</td>\n",
       "    </tr>\n",
       "    <tr>\n",
       "      <th>3</th>\n",
       "      <td>4</td>\n",
       "      <td>0.0</td>\n",
       "    </tr>\n",
       "    <tr>\n",
       "      <th>4</th>\n",
       "      <td>5</td>\n",
       "      <td>0.0</td>\n",
       "    </tr>\n",
       "  </tbody>\n",
       "</table>\n",
       "</div>"
      ],
      "text/plain": [
       "   Day  Daily New Cases\n",
       "0    1              0.0\n",
       "1    2              0.0\n",
       "2    3              0.0\n",
       "3    4              0.0\n",
       "4    5              0.0"
      ]
     },
     "execution_count": 11,
     "metadata": {},
     "output_type": "execute_result"
    }
   ],
   "source": [
    "model_df=new_cases[['Day','Daily New Cases']]\n",
    "model_df.head()"
   ]
  },
  {
   "cell_type": "code",
   "execution_count": 12,
   "metadata": {},
   "outputs": [],
   "source": [
    "x = model_df.iloc[:, :-1].values\n",
    "y = model_df.iloc[:, 1].values"
   ]
  },
  {
   "cell_type": "code",
   "execution_count": 13,
   "metadata": {},
   "outputs": [
    {
     "data": {
      "image/png": "[encoded data removed]",
      "text/plain": [
       "<Figure size 432x288 with 1 Axes>"
      ]
     },
     "metadata": {
      "needs_background": "light"
     },
     "output_type": "display_data"
    }
   ],
   "source": [
    "import matplotlib.pyplot as plt \n",
    "\n",
    "plt.scatter(x, y)\n",
    "plt.xlabel('No. of days')\n",
    "plt.ylabel('Daily new cases')\n",
    "plt.show()"
   ]
  },
  {
   "cell_type": "markdown",
   "metadata": {},
   "source": [
    "## 3.0 Create a model with different degree of polynomial\n",
    "\n",
    "x = No. of Days\n",
    "\n",
    "y = daily new cases\n",
    "\n",
    "\n",
    "### 3.1 Polynomial Regression (degree = 1)"
   ]
  },
  {
   "cell_type": "code",
   "execution_count": 14,
   "metadata": {},
   "outputs": [
    {
     "data": {
      "image/png": "[encoded data removed]",
      "text/plain": [
       "<Figure size 432x288 with 1 Axes>"
      ]
     },
     "metadata": {
      "needs_background": "light"
     },
     "output_type": "display_data"
    }
   ],
   "source": [
    "# Fitting Polynomial Regression to the dataset\n",
    "from sklearn.preprocessing import PolynomialFeatures\n",
    "from sklearn.linear_model import LinearRegression\n",
    "from sklearn import linear_model\n",
    "\n",
    "poly_reg1 = PolynomialFeatures(degree=1)\n",
    "x1_poly = poly_reg1.fit_transform(x)\n",
    "pol_reg1 = LinearRegression()\n",
    "pol_reg1.fit(x1_poly, y)\n",
    "\n",
    "# Visualizing the Polymonial Regression results\n",
    "def viz_polymonial():\n",
    "    plt.scatter(x, y, color='pink')\n",
    "    plt.plot(x, pol_reg1.predict(x1_poly), color='blue')\n",
    "    plt.xlabel('No. of days')\n",
    "    plt.ylabel('Daily new cases')\n",
    "    plt.show()\n",
    "    return\n",
    "viz_polymonial()"
   ]
  },
  {
   "cell_type": "markdown",
   "metadata": {},
   "source": [
    "### 3.2 Polynomial Regression (degree = 2)"
   ]
  },
  {
   "cell_type": "code",
   "execution_count": 15,
   "metadata": {},
   "outputs": [
    {
     "data": {
      "image/png": "[encoded data removed]",
      "text/plain": [
       "<Figure size 432x288 with 1 Axes>"
      ]
     },
     "metadata": {
      "needs_background": "light"
     },
     "output_type": "display_data"
    }
   ],
   "source": [
    "poly_reg2 = PolynomialFeatures(degree=2)\n",
    "x2_poly = poly_reg2.fit_transform(x)\n",
    "pol_reg2 = LinearRegression()\n",
    "pol_reg2.fit(x2_poly, y)\n",
    "\n",
    "# Visualizing the Polymonial Regression results\n",
    "def viz_polymonial():\n",
    "    plt.scatter(x, y, color='pink')\n",
    "    plt.plot(x, pol_reg2.predict(x2_poly), color='blue')\n",
    "    plt.xlabel('No. of days')\n",
    "    plt.ylabel('Daily new cases')\n",
    "    plt.show()\n",
    "    return\n",
    "viz_polymonial()"
   ]
  },
  {
   "cell_type": "markdown",
   "metadata": {},
   "source": [
    "### 3.3 Polynomial Regression (degree = 3)"
   ]
  },
  {
   "cell_type": "code",
   "execution_count": 16,
   "metadata": {},
   "outputs": [
    {
     "data": {
      "image/png": "[encoded data removed]",
      "text/plain": [
       "<Figure size 432x288 with 1 Axes>"
      ]
     },
     "metadata": {
      "needs_background": "light"
     },
     "output_type": "display_data"
    }
   ],
   "source": [
    "poly_reg3 = PolynomialFeatures(degree=3)\n",
    "x3_poly = poly_reg3.fit_transform(x)\n",
    "pol_reg3 = LinearRegression()\n",
    "pol_reg3.fit(x3_poly, y)\n",
    "\n",
    "# Visualizing the Polymonial Regression results\n",
    "def viz_polymonial():\n",
    "    plt.scatter(x, y, color='pink')\n",
    "    plt.plot(x, pol_reg3.predict(x3_poly), color='blue')\n",
    "    plt.xlabel('No. of days')\n",
    "    plt.ylabel('Daily new cases')\n",
    "    plt.show()\n",
    "    return\n",
    "viz_polymonial()"
   ]
  },
  {
   "cell_type": "markdown",
   "metadata": {},
   "source": [
    "### 3.4 Polynomial Regression (degree = 4)"
   ]
  },
  {
   "cell_type": "code",
   "execution_count": 17,
   "metadata": {},
   "outputs": [
    {
     "data": {
      "image/png": "[encoded data removed]",
      "text/plain": [
       "<Figure size 432x288 with 1 Axes>"
      ]
     },
     "metadata": {
      "needs_background": "light"
     },
     "output_type": "display_data"
    }
   ],
   "source": [
    "poly_reg4 = PolynomialFeatures(degree=4)\n",
    "x4_poly = poly_reg4.fit_transform(x)\n",
    "pol_reg4 = LinearRegression()\n",
    "pol_reg4.fit(x4_poly, y)\n",
    "\n",
    "# Visualizing the Polymonial Regression results\n",
    "def viz_polymonial():\n",
    "    plt.scatter(x, y, color='pink')\n",
    "    plt.plot(x, pol_reg4.predict(x4_poly), color='blue')\n",
    "    plt.xlabel('No. of days')\n",
    "    plt.ylabel('Daily new cases')\n",
    "    plt.show()\n",
    "    return\n",
    "viz_polymonial()"
   ]
  },
  {
   "cell_type": "markdown",
   "metadata": {},
   "source": [
    "### 3.5 Polynomial Regression (degree = 5)"
   ]
  },
  {
   "cell_type": "code",
   "execution_count": 18,
   "metadata": {},
   "outputs": [
    {
     "data": {
      "image/png": "[encoded data removed]",
      "text/plain": [
       "<Figure size 432x288 with 1 Axes>"
      ]
     },
     "metadata": {
      "needs_background": "light"
     },
     "output_type": "display_data"
    }
   ],
   "source": [
    "poly_reg5 = PolynomialFeatures(degree=5)\n",
    "x5_poly = poly_reg5.fit_transform(x)\n",
    "pol_reg5 = LinearRegression()\n",
    "pol_reg5.fit(x5_poly, y)\n",
    "\n",
    "# Visualizing the Polymonial Regression results\n",
    "def viz_polymonial():\n",
    "    plt.scatter(x, y, color='pink')\n",
    "    plt.plot(x, pol_reg5.predict(x5_poly), color='blue')\n",
    "    plt.xlabel('No. of days')\n",
    "    plt.ylabel('Daily new cases')\n",
    "    plt.show()\n",
    "    return\n",
    "viz_polymonial()"
   ]
  },
  {
   "cell_type": "markdown",
   "metadata": {},
   "source": [
    "### 3.6 Polynomial Regression (degree = 6)"
   ]
  },
  {
   "cell_type": "code",
   "execution_count": 19,
   "metadata": {},
   "outputs": [
    {
     "data": {
      "image/png": "[encoded data removed]",
      "text/plain": [
       "<Figure size 432x288 with 1 Axes>"
      ]
     },
     "metadata": {
      "needs_background": "light"
     },
     "output_type": "display_data"
    }
   ],
   "source": [
    "poly_reg6 = PolynomialFeatures(degree=6)\n",
    "x6_poly = poly_reg6.fit_transform(x)\n",
    "pol_reg6 = LinearRegression()\n",
    "pol_reg6.fit(x6_poly, y)\n",
    "\n",
    "# Visualizing the Polymonial Regression results\n",
    "def viz_polymonial():\n",
    "    plt.scatter(x, y, color='pink')\n",
    "    plt.plot(x, pol_reg6.predict(x6_poly), color='blue')\n",
    "    plt.xlabel('No. of days')\n",
    "    plt.ylabel('Daily new cases')\n",
    "    plt.show()\n",
    "    return\n",
    "viz_polymonial()"
   ]
  },
  {
   "cell_type": "markdown",
   "metadata": {},
   "source": [
    "## 4.0 Evaluating the Algorithm"
   ]
  },
  {
   "cell_type": "markdown",
   "metadata": {},
   "source": [
    "### 4.1 Polynomial Regression (degree = 1)"
   ]
  },
  {
   "cell_type": "code",
   "execution_count": 20,
   "metadata": {},
   "outputs": [],
   "source": [
    "y1_pred = pol_reg1.predict(x1_poly)"
   ]
  },
  {
   "cell_type": "code",
   "execution_count": 21,
   "metadata": {},
   "outputs": [
    {
     "name": "stdout",
     "output_type": "stream",
     "text": [
      "Mean Absolute Error: 345.5620526344796\n",
      "Mean Squared Error: 195639.64172279445\n",
      "Root Mean Squared Error: 442.3117019962217\n",
      "R Squared value: 0.5547524370431165\n"
     ]
    }
   ],
   "source": [
    "from sklearn.metrics import mean_squared_error\n",
    "from sklearn import metrics\n",
    "from sklearn import linear_model\n",
    "from sklearn.metrics import r2_score\n",
    "\n",
    "\n",
    "print('Mean Absolute Error:', metrics.mean_absolute_error(y, y1_pred))\n",
    "print('Mean Squared Error:', metrics.mean_squared_error(y, y1_pred))\n",
    "print('Root Mean Squared Error:', np.sqrt(metrics.mean_squared_error(y, y1_pred)))\n",
    "print('R Squared value:',r2_score(y, y1_pred))"
   ]
  },
  {
   "cell_type": "markdown",
   "metadata": {},
   "source": [
    "### 4.2 Polynomial Regression (degree = 2)"
   ]
  },
  {
   "cell_type": "code",
   "execution_count": 22,
   "metadata": {},
   "outputs": [],
   "source": [
    "y2_pred = pol_reg2.predict(x2_poly)"
   ]
  },
  {
   "cell_type": "code",
   "execution_count": 23,
   "metadata": {},
   "outputs": [
    {
     "name": "stdout",
     "output_type": "stream",
     "text": [
      "Mean Absolute Error: 189.24070469429375\n",
      "Mean Squared Error: 60508.180855818944\n",
      "Root Mean Squared Error: 245.98410691713184\n",
      "R Squared value: 0.862292121229801\n"
     ]
    }
   ],
   "source": [
    "print('Mean Absolute Error:', metrics.mean_absolute_error(y, y2_pred))\n",
    "print('Mean Squared Error:', metrics.mean_squared_error(y, y2_pred))\n",
    "print('Root Mean Squared Error:', np.sqrt(metrics.mean_squared_error(y, y2_pred)))\n",
    "print('R Squared value:',r2_score(y, y2_pred))"
   ]
  },
  {
   "cell_type": "markdown",
   "metadata": {},
   "source": [
    "### 4.3 Polynomial Regression (degree = 3)"
   ]
  },
  {
   "cell_type": "code",
   "execution_count": 24,
   "metadata": {},
   "outputs": [],
   "source": [
    "y3_pred = pol_reg3.predict(x3_poly)"
   ]
  },
  {
   "cell_type": "code",
   "execution_count": 25,
   "metadata": {},
   "outputs": [
    {
     "name": "stdout",
     "output_type": "stream",
     "text": [
      "Mean Absolute Error: 116.38156399919625\n",
      "Mean Squared Error: 39664.788448780295\n",
      "Root Mean Squared Error: 199.16020799542335\n",
      "R Squared value: 0.9097286713648582\n"
     ]
    }
   ],
   "source": [
    "print('Mean Absolute Error:', metrics.mean_absolute_error(y, y3_pred))\n",
    "print('Mean Squared Error:', metrics.mean_squared_error(y, y3_pred))\n",
    "print('Root Mean Squared Error:', np.sqrt(metrics.mean_squared_error(y, y3_pred)))\n",
    "print('R Squared value:',r2_score(y, y3_pred))"
   ]
  },
  {
   "cell_type": "markdown",
   "metadata": {},
   "source": [
    "### 4.4 Polynomial Regression (degree = 4)"
   ]
  },
  {
   "cell_type": "code",
   "execution_count": 26,
   "metadata": {},
   "outputs": [],
   "source": [
    "y4_pred = pol_reg4.predict(x4_poly)"
   ]
  },
  {
   "cell_type": "code",
   "execution_count": 27,
   "metadata": {},
   "outputs": [
    {
     "name": "stdout",
     "output_type": "stream",
     "text": [
      "Mean Absolute Error: 115.71448355676701\n",
      "Mean Squared Error: 38815.48216205283\n",
      "Root Mean Squared Error: 197.01645150101763\n",
      "R Squared value: 0.9116615697848276\n"
     ]
    }
   ],
   "source": [
    "print('Mean Absolute Error:', metrics.mean_absolute_error(y, y4_pred))\n",
    "print('Mean Squared Error:', metrics.mean_squared_error(y, y4_pred))\n",
    "print('Root Mean Squared Error:', np.sqrt(metrics.mean_squared_error(y, y4_pred)))\n",
    "print('R Squared value:',r2_score(y, y4_pred))"
   ]
  },
  {
   "cell_type": "markdown",
   "metadata": {},
   "source": [
    "### 4.5 Polynomial Regression (degree = 5)"
   ]
  },
  {
   "cell_type": "code",
   "execution_count": 28,
   "metadata": {},
   "outputs": [],
   "source": [
    "y5_pred = pol_reg5.predict(x5_poly)"
   ]
  },
  {
   "cell_type": "code",
   "execution_count": 29,
   "metadata": {},
   "outputs": [
    {
     "name": "stdout",
     "output_type": "stream",
     "text": [
      "Mean Absolute Error: 116.02520266514682\n",
      "Mean Squared Error: 38812.609664297845\n",
      "Root Mean Squared Error: 197.00916137149014\n",
      "R Squared value: 0.9116681071747642\n"
     ]
    }
   ],
   "source": [
    "print('Mean Absolute Error:', metrics.mean_absolute_error(y, y5_pred))\n",
    "print('Mean Squared Error:', metrics.mean_squared_error(y, y5_pred))\n",
    "print('Root Mean Squared Error:', np.sqrt(metrics.mean_squared_error(y, y5_pred)))\n",
    "print('R Squared value:',r2_score(y, y5_pred))"
   ]
  },
  {
   "cell_type": "markdown",
   "metadata": {},
   "source": [
    "### 4.6 Polynomial Regression (degree = 6)"
   ]
  },
  {
   "cell_type": "code",
   "execution_count": 30,
   "metadata": {},
   "outputs": [],
   "source": [
    "y6_pred = pol_reg6.predict(x6_poly)"
   ]
  },
  {
   "cell_type": "code",
   "execution_count": 31,
   "metadata": {},
   "outputs": [
    {
     "name": "stdout",
     "output_type": "stream",
     "text": [
      "Mean Absolute Error: 121.84582284232951\n",
      "Mean Squared Error: 37074.616489425214\n",
      "Root Mean Squared Error: 192.547699257678\n",
      "R Squared value: 0.9156235285747083\n"
     ]
    }
   ],
   "source": [
    "print('Mean Absolute Error:', metrics.mean_absolute_error(y, y6_pred))\n",
    "print('Mean Squared Error:', metrics.mean_squared_error(y, y6_pred))\n",
    "print('Root Mean Squared Error:', np.sqrt(metrics.mean_squared_error(y, y6_pred)))\n",
    "print('R Squared value:',r2_score(y, y6_pred))"
   ]
  },
  {
   "cell_type": "markdown",
   "metadata": {},
   "source": [
    "### 5.0 Making prediction for next 3 weeks"
   ]
  },
  {
   "cell_type": "markdown",
   "metadata": {},
   "source": [
    "### 5.1 Polynomial Regression (degree = 4)"
   ]
  },
  {
   "cell_type": "code",
   "execution_count": 32,
   "metadata": {},
   "outputs": [],
   "source": [
    "# Predicting a new result with Polymonial Regression for day=335 until day=356 \n",
    "day_335=pol_reg4.predict(poly_reg4.fit_transform([[335]]))\n",
    "day_338=pol_reg4.predict(poly_reg4.fit_transform([[338]]))\n",
    "day_341=pol_reg4.predict(poly_reg4.fit_transform([[341]]))\n",
    "day_344=pol_reg4.predict(poly_reg4.fit_transform([[344]]))\n",
    "day_347=pol_reg4.predict(poly_reg4.fit_transform([[347]]))\n",
    "day_350=pol_reg4.predict(poly_reg4.fit_transform([[350]]))\n",
    "day_353=pol_reg4.predict(poly_reg4.fit_transform([[353]]))\n",
    "day_356=pol_reg4.predict(poly_reg4.fit_transform([[356]]))\n",
    "#day_343=pol_reg4.predict(poly_reg4.fit_transform([[343]]))\n",
    "#day_344=pol_reg4.predict(poly_reg4.fit_transform([[344]]))"
   ]
  },
  {
   "cell_type": "code",
   "execution_count": 33,
   "metadata": {},
   "outputs": [],
   "source": [
    "days=[335,338,341,344,347,350,353,356]\n",
    "three_weeks=[day_335,day_338,day_341,day_344,day_347,day_350,day_353,day_356]\n",
    "\n",
    "#forecast = {'Days':days,'New case prediction':three_weeks}\n",
    "#df_forecast = pd.DataFrame(forecast, columns=['Days','New case prediction'])\n",
    "#df_forecast"
   ]
  },
  {
   "cell_type": "code",
   "execution_count": 34,
   "metadata": {},
   "outputs": [
    {
     "data": {
      "text/plain": [
       "[array([2439.53220039]),\n",
       " array([2526.28677695]),\n",
       " array([2614.39327219]),\n",
       " array([2703.82956239]),\n",
       " array([2794.57255618]),\n",
       " array([2886.59819448]),\n",
       " array([2979.88145057]),\n",
       " array([3074.39633003])]"
      ]
     },
     "execution_count": 34,
     "metadata": {},
     "output_type": "execute_result"
    }
   ],
   "source": [
    "three_weeks"
   ]
  },
  {
   "cell_type": "code",
   "execution_count": 35,
   "metadata": {},
   "outputs": [
    {
     "data": {
      "image/png": "[encoded data removed]",
      "text/plain": [
       "<Figure size 432x288 with 1 Axes>"
      ]
     },
     "metadata": {
      "needs_background": "light"
     },
     "output_type": "display_data"
    }
   ],
   "source": [
    "def viz_polymonial():\n",
    "    plt.plot(days, three_weeks, color='red',label='Next 3 weeks')\n",
    "    plt.plot(x, pol_reg4.predict(x4_poly), color='blue',label='New cases')\n",
    "    plt.xlabel('No. of days')\n",
    "    plt.ylabel('Daily new cases')\n",
    "    plt.legend()\n",
    "    plt.show()\n",
    "    return\n",
    "viz_polymonial()\n",
    "\n"
   ]
  },
  {
   "cell_type": "markdown",
   "metadata": {},
   "source": [
    "  "
   ]
  }
 ],
 "metadata": {
  "kernelspec": {
   "display_name": "Python 3",
   "language": "python",
   "name": "python3"
  },
  "language_info": {
   "codemirror_mode": {
    "name": "ipython",
    "version": 3
   },
   "file_extension": ".py",
   "mimetype": "text/x-python",
   "name": "python",
   "nbconvert_exporter": "python",
   "pygments_lexer": "ipython3",
   "version": "3.8.3"
  }
 },
 "nbformat": 4,
 "nbformat_minor": 4
}
